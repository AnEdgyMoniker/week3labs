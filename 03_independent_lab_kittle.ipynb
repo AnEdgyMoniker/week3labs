{
 "cells": [
  {
   "cell_type": "markdown",
   "metadata": {},
   "source": [
    "# Final Fantasy 7: Vending Machine Code\n",
    "### Brandon Kittle\n",
    "### 03/18/2025\n",
    "\n",
    "First I aplogize for the late turn in, I was pushing myself to try and utilize some type of formating for this and wanted to make this as clean as possible. I try to take the assignments and create more of a dynamic enviroment for me to play in, while understandin the simple concepts of the assignment. I want to create something more unique to challange my skill level and understanding of the concepts. Think, expanding upon the current assignment. However, I also want to have fun and create something I actually enjoy writing as well. I hope you enjoy this as much as I did creating it."
   ]
  },
  {
   "cell_type": "code",
   "execution_count": 31,
   "metadata": {},
   "outputs": [],
   "source": [
    "import os\n",
    "\n",
    "# Function to clear the terminal \n",
    "#def clear_terminal():\n",
    "    #os.system('cls' if os.name == 'nt' else 'clear')\n",
    "\n",
    "# Note book clear function \n",
    "from IPython.display import clear_output\n",
    "\n",
    "def clear_terminal():\n",
    "    clear_output(wait=True)\n"
   ]
  },
  {
   "cell_type": "markdown",
   "metadata": {},
   "source": [
    "Doing some quick research, as this was my first time doing this in python specifically for osx/windows, I found that this allows clearing of terminal outputs in Jupyter Notebooks. I did pull this concept from stack exchange. This was my first time making sure that the terminal could clear whether it was os or Nt (windows due to NT kernal). First, we defined the clear function so this code is much simipler to use on the fly. Saves memory, and makes it easier to read. We use the ternary operator for a conditional expression to decide if the command we are giving is 'cls' or 'clear'. \n",
    "\n",
    "Edit: I did not realize that the notebook has a truncated terminal. Due to this, I implemented a clear function for the terminal rather then based on OS. However, if this program was ran directly for the terminal in a py function. The clear functions should be swapped above!\n",
    "\n",
    "Next, we will create the product class below.\n",
    "## Product Class "
   ]
  },
  {
   "cell_type": "code",
   "execution_count": 2,
   "metadata": {},
   "outputs": [],
   "source": [
    "class Product:\n",
    "    def __init__(self, name, price, category):\n",
    "        self.name = name\n",
    "        self.price = price\n",
    "        self.category = category\n",
    "        \n",
    "    def __str__(self):\n",
    "        return f\"{self.name} - {self.price} gil\"\n"
   ]
  },
  {
   "cell_type": "markdown",
   "metadata": {},
   "source": [
    "The class is pretty simple. We define all the characteristics we need to have for each product as asked. Name, price, and I included category. This will allow us to sort the products by category... or menu *hint hint*. We then also create a function to print the product. Save us time in formating, and makes it easier to read. \n",
    "\n",
    "As I said above. I wanted to press myself to create a more complex enviroment. I wanted to reengineer one of my favorite kiosks. Vending machines or venders in Final Fantasy Games. However, we use menus to seperate the items that are purchasable with the ingame currency (Gil). Due to this, we need to create a product menu that categorizes the items. In c++ we used to call these node theories. They are really cool since you can actually items to level progression, or area unlocks. That way when you open a vending menu, you can create a unique experience for the player. Anywho, enough rambeling. Lets program. \n",
    "\n",
    "## Products Menu"
   ]
  },
  {
   "cell_type": "code",
   "execution_count": 4,
   "metadata": {},
   "outputs": [],
   "source": [
    "# Define Products\n",
    "items = [\n",
    "    Product(\"Potion\", 50, \"Item\"),\n",
    "    Product(\"Hi-Potion\", 300, \"Item\"),\n",
    "    Product(\"Ether\", 1500, \"Item\"),\n",
    "    Product(\"Phoenix Down\", 500, \"Item\"),\n",
    "]\n",
    "\n",
    "weapons = [\n",
    "    Product(\"Buster Sword\", 1200, \"Weapon\"),\n",
    "    Product(\"Mythril Saber\", 3000, \"Weapon\"),\n",
    "]\n",
    "\n",
    "armor = [\n",
    "    Product(\"Iron Bangle\", 350, \"Armor\"),\n",
    "    Product(\"Titan Bangle\", 500, \"Armor\"),\n",
    "]\n",
    "\n",
    "materia = [\n",
    "    Product(\"Fire\", 600, \"Materia\"),\n",
    "    Product(\"Ice\", 600, \"Materia\"),\n",
    "    Product(\"Lightning\", 600, \"Materia\"),\n",
    "    Product(\"Cure\", 400, \"Materia\"),\n",
    "]\n",
    "\n",
    "# Combine into one list for easy handling\n",
    "all_products = items + weapons + armor + materia\n"
   ]
  },
  {
   "cell_type": "markdown",
   "metadata": {},
   "source": [
    "Now we will need to create a way to represent the menu. I originally had this below in the main body, but I wasn't getting the results I wanted. Some new line errors with the clearing function within the loop was making it difficult to read. Creating storage containers to carry over lines of text was just cumbersome and confusing. So we stopped, and created a display function. In such ways, we are kinda creating a class without the class features. Almost like a wrapper or interface in java. We need to be able to cleanly pass the display function of the menu contaning class objects. "
   ]
  },
  {
   "cell_type": "code",
   "execution_count": 38,
   "metadata": {},
   "outputs": [],
   "source": [
    "def display_menu():\n",
    "    print(\"\\n--- Welcome to the Shinra Company Vending Machine! ---\")\n",
    "    print(\"1. Items\")\n",
    "    print(\"2. Weapons\")\n",
    "    print(\"3. Armor\")\n",
    "    print(\"4. Materia\")\n",
    "    print(\"5. Checkout\")\n"
   ]
  },
  {
   "cell_type": "markdown",
   "metadata": {},
   "source": [
    "Now products. Catch? We need to make sure we are sorting by category. For this we will use a loop naturally. "
   ]
  },
  {
   "cell_type": "code",
   "execution_count": 6,
   "metadata": {},
   "outputs": [],
   "source": [
    "def display_products(category):\n",
    "    print(f\"\\n--- {category} ---\")\n",
    "    products = [p for p in all_products if p.category == category]\n",
    "    for i, product in enumerate(products, start=1):\n",
    "        print(f\"{i}. {product}\")\n",
    "    print(\"0. Go Back\")"
   ]
  },
  {
   "cell_type": "markdown",
   "metadata": {},
   "source": [
    "Now this I would define as a true interface and wrapper for the product class. The shopping cart class. We need to be able to add items to the cart based of user interaction and contain the total price. Additionally, we need to display the cart. \n",
    "\n",
    "## Shopping Cart"
   ]
  },
  {
   "cell_type": "code",
   "execution_count": 26,
   "metadata": {},
   "outputs": [],
   "source": [
    "class ShoppingCart:\n",
    "    def __init__(self):\n",
    "        self.cart = {}\n",
    "        \n",
    "    def add_to_cart(self, product, quantity):\n",
    "        if product in self.cart:\n",
    "            self.cart[product] += quantity\n",
    "        else:\n",
    "            self.cart[product] = quantity\n",
    "    \n",
    "    def display_cart(self):\n",
    "        print(\"\\n--- Your Order ---\")\n",
    "        total = 0\n",
    "        for product, quantity in self.cart.items():\n",
    "            cost = product.price * quantity\n",
    "            print(f\"{product.name} x{quantity} - {cost} gil\")\n",
    "            total += cost\n",
    "        print(f\"Total: {total} gil\")\n",
    "\n",
    "    def get_total(self):\n",
    "        return sum(product.price * quantity for product, quantity in self.cart.items())\n"
   ]
  },
  {
   "cell_type": "markdown",
   "metadata": {},
   "source": [
    "The cart itself is a dictonary. I wanted to make sure we could add multiple items, remove, and have an easy way to interact with the cart as the wrapper. Key value pairs seemed the way to go rather then a list of objects that would create iterative searching, or creating dynamic searches as the object grows. Key values make a wonderful unique identifier to handle this information. \n",
    "\n",
    "Then we created the Add_to_cart function. Fairly self explanatory. \n",
    "\n",
    "Display cart to create neat formating. \n",
    "\n",
    "Then get total. This will make an auto acumulator for the total price of the cart. Coding that likely will be repeatitive. \n",
    "\n",
    "Next will be our main brick and mortar of the function. The logic of the kiosk. \n",
    "\n",
    "## Kiosk Logic"
   ]
  },
  {
   "cell_type": "code",
   "execution_count": 35,
   "metadata": {},
   "outputs": [],
   "source": [
    "def main():\n",
    "    global cart \n",
    "    cart = ShoppingCart()\n",
    "    while True:\n",
    "        display_menu()\n",
    "        choice = input(\"\\nSelect an option: \").strip()\n",
    "\n",
    "        if choice == '1':\n",
    "            category = 'Item'\n",
    "        elif choice == '2':\n",
    "            category = 'Weapon'\n",
    "        elif choice == '3':\n",
    "            category = 'Armor'\n",
    "        elif choice == '4':\n",
    "            category = 'Materia'\n",
    "        elif choice == '5':\n",
    "            clear_terminal()\n",
    "            cart.display_cart()\n",
    "            print(\"\\nThank you for your purchase! See you again!\")\n",
    "            break\n",
    "        else:\n",
    "            print(\"\\nThat is not an option. Please try again.\")\n",
    "            input(\"\\nPress Enter to continue...\")\n",
    "            continue\n",
    "        \n",
    "        # ✅ Display products before the user makes a choice\n",
    "        while True:\n",
    "            display_products(category)\n",
    "            product_choice = input(\"\\nSelect an item to add to cart (0 to go back): \").strip()\n",
    "\n",
    "            if product_choice == '0':\n",
    "                clear_terminal()\n",
    "                break\n",
    "            \n",
    "            try:\n",
    "                product_index = int(product_choice) - 1\n",
    "                products = [p for p in all_products if p.category == category]\n",
    "                \n",
    "                if 0 <= product_index < len(products):\n",
    "                    product = products[product_index]\n",
    "                    quantity = int(input(f\"How many {product.name} would you like? \"))\n",
    "                    \n",
    "                    if quantity > 0:\n",
    "                        # ✅ Pass a copy to avoid modifying the original object\n",
    "                        cart.add_to_cart(product, quantity)\n",
    "                        clear_terminal()\n",
    "                        print(f\"\\n{quantity} x {product.name} added to cart.\")\n",
    "                        input(\"\\nPress Enter to continue...\")\n",
    "                    else:\n",
    "                        print(\"\\nInvalid quantity. Must be greater than 0.\")\n",
    "                        input(\"\\nPress Enter to continue...\")\n",
    "                else:\n",
    "                    print(\"\\nInvalid selection.\")\n",
    "                    input(\"\\nPress Enter to continue...\")\n",
    "\n",
    "            except ValueError:\n",
    "                print(\"\\nInvalid input. Please enter a number.\")\n",
    "                input(\"\\nPress Enter to continue...\")\n"
   ]
  },
  {
   "cell_type": "markdown",
   "metadata": {},
   "source": [
    "Wouldn't be me if I didn't seperate the initilization of the program. So, below shall run our main to see the program completed. However, ask asked we used string and made sure to include options for invalid entries. Like prior programs, I'm more of a fan of try Catch blocks. I find them more efficient and cleaner to read. However, for the purposes of this assignment, we will use if else statements.\n",
    "\n",
    "## Start the kiosk"
   ]
  },
  {
   "cell_type": "code",
   "execution_count": 37,
   "metadata": {},
   "outputs": [
    {
     "name": "stdout",
     "output_type": "stream",
     "text": [
      "\n",
      "--- Your Order ---\n",
      "Hi-Potion x2 - 600 gil\n",
      "Total: 600 gil\n",
      "\n",
      "Thank you for your purchase! See you again!\n"
     ]
    }
   ],
   "source": [
    "if __name__ == \"__main__\":\n",
    "    main()"
   ]
  },
  {
   "cell_type": "markdown",
   "metadata": {},
   "source": [
    "One thing I haven't figured out yet is how to clear out the terminal prior to the start of the program. What is happening is on a test run, depending how I escaped the program, the terminal will not populate the opening menu. If this happens I'm sorry, I found out this was due to the notebook. Please clear all outputs and start the notebook fresh! \n",
    "\n",
    "I was also having issues with truncating menus and had to adjust my clear function to work with the notebook using the direct library from the notebook instead of the system library for mac/windows. "
   ]
  }
 ],
 "metadata": {
  "kernelspec": {
   "display_name": "Python 3",
   "language": "python",
   "name": "python3"
  },
  "language_info": {
   "codemirror_mode": {
    "name": "ipython",
    "version": 3
   },
   "file_extension": ".py",
   "mimetype": "text/x-python",
   "name": "python",
   "nbconvert_exporter": "python",
   "pygments_lexer": "ipython3",
   "version": "3.12.0"
  }
 },
 "nbformat": 4,
 "nbformat_minor": 2
}
