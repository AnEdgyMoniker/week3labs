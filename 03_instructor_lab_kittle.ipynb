{
 "cells": [
  {
   "cell_type": "markdown",
   "metadata": {},
   "source": [
    "# Instructor Led Lab 3\n",
    "### Introduction to Python\n",
    "Brandon Kittle\n",
    "03/15/2025\n",
    "\n",
    "First we have been asked to bring in the contents of our prior Independent lab. Here, we created the start of a temperature conversion program. Below is the main chunck that we need to run the program. Our conversion function itself. "
   ]
  },
  {
   "cell_type": "code",
   "execution_count": 1,
   "metadata": {},
   "outputs": [],
   "source": [
    "def celsius_to_fahrenheit(celsius_in): # Fuctioning asking for arguement celsius\n",
    "    fahrenheit_out = (celsius_in * 9/5) + 32 # Our Math needed\n",
    "    return fahrenheit_out # Return the value that shall be fahrenheit"
   ]
  },
  {
   "cell_type": "markdown",
   "metadata": {},
   "source": [
    "We also had celcius and fahrenheit variables that we used to store the values of the temperatures we were converting. We will now add Kelvin to the mix."
   ]
  },
  {
   "cell_type": "code",
   "execution_count": null,
   "metadata": {},
   "outputs": [],
   "source": [
    "celsius = 0.0 # Floating holder\n",
    "fahrenheit = 0.0 # Floating holder\n",
    "kelvin = 0.0 # Floating holder\n",
    "\n",
    "#print(celsius) # Test\n",
    "#print(fahrenheit) # Test\n",
    "#print(kelvin) # Test"
   ]
  },
  {
   "cell_type": "markdown",
   "metadata": {},
   "source": [
    "Now, we will bring in the try catch that we utilized in the last lab to ensure that the user is inputting a number. Now, due to the step procedures of this lab, we will not be using common code structure. However, worry not! we will include a workable structure at the end of the lab should you wish to see it!"
   ]
  },
  {
   "cell_type": "code",
   "execution_count": 3,
   "metadata": {},
   "outputs": [],
   "source": [
    "while True: #Try catch for valid input\n",
    "    try:\n",
    "        celsius = float(input(\"Enter temperature in Celsius you would like to convert to Fahrenheit: \").strip())  # Strip removes extra spaces\n",
    "        break  # Exit the loop on valid input\n",
    "    except ValueError:\n",
    "        print(\"Invalid input. Please enter a valid number.\")"
   ]
  },
  {
   "cell_type": "markdown",
   "metadata": {},
   "source": [
    "Now lets define what the conversion to Kelvin is!"
   ]
  },
  {
   "cell_type": "code",
   "execution_count": 4,
   "metadata": {},
   "outputs": [],
   "source": [
    "def celsius_to_kelvin(celsius_in): # Fuctioning asking for arguement celsius\n",
    "    kelvin_out = celsius_in + 273.15 # Our Math needed\n",
    "    return kelvin_out # Return the value that shall be kelvin"
   ]
  },
  {
   "cell_type": "markdown",
   "metadata": {},
   "source": [
    "Now we can preform the second conversion as asked. Taking the celcius value and converting it to Kelvin."
   ]
  },
  {
   "cell_type": "code",
   "execution_count": 5,
   "metadata": {},
   "outputs": [],
   "source": [
    "fahrenheit = celsius_to_fahrenheit(celsius)\n",
    "kelvin = celsius_to_kelvin(celsius)\n",
    "\n",
    "#print(fahrenheit) #Test output\n",
    "#print(kelvin) #Test output"
   ]
  },
  {
   "cell_type": "markdown",
   "metadata": {},
   "source": [
    "Next we will give our formatted output to the user of this program. "
   ]
  },
  {
   "cell_type": "code",
   "execution_count": 6,
   "metadata": {},
   "outputs": [
    {
     "name": "stdout",
     "output_type": "stream",
     "text": [
      "32.0°C is equal to 89.60°F which is equal to 305.15K\n"
     ]
    }
   ],
   "source": [
    "print(f\"{celsius}°C is equal to {fahrenheit:.2f}°F which is equal to {kelvin:.2f}K\") # Output"
   ]
  },
  {
   "cell_type": "markdown",
   "metadata": {},
   "source": [
    "Next, we have been asked to create secondard variables of the similar name to store new inputs from the user. We will initialize these variables to 0. Then we will ask the user for input and store it in the new variables. We will output the new variables to the user with the slight modification as such: Second set of values: *c* degrees Celsius is *f* degrees Fahrenheit which is *k* degrees Kelvin."
   ]
  },
  {
   "cell_type": "code",
   "execution_count": 7,
   "metadata": {},
   "outputs": [
    {
     "name": "stdout",
     "output_type": "stream",
     "text": [
      "The second set of values: 56.0 degrees Celsius is 132.80 degrees Fahrenheit which is 329.15 degrees Kelvin\n"
     ]
    }
   ],
   "source": [
    "celsius_two = 0.0 # Floating holder\n",
    "fahrenheit_two = 0.0 # Floating holder\n",
    "kelvin_two = 0.0 # Floating holder\n",
    "\n",
    "#print(celsius_two) # Test\n",
    "#print(fahrenheit_two) # Test\n",
    "#print(kelvin_two) # Test\n",
    "\n",
    "while True: #Try catch for valid input\n",
    "    try:\n",
    "        celsius_two = float(input(\"Enter temperature in Celsius you would like to convert to Fahrenheit: \").strip())  # Strip removes extra spaces\n",
    "        break  # Exit the loop on valid input\n",
    "    except ValueError:\n",
    "        print(\"Invalid input. Please enter a valid number.\")\n",
    "\n",
    "# Run our calculator definitions above\n",
    "fahrenheit_two = celsius_to_fahrenheit(celsius_two)\n",
    "kelvin_two = celsius_to_kelvin(celsius_two)\n",
    "\n",
    "print(f\"The second set of values: {celsius_two} degrees Celsius is {fahrenheit_two:.2f} degrees Fahrenheit which is {kelvin_two:.2f} degrees Kelvin\") # Output       \n"
   ]
  },
  {
   "cell_type": "markdown",
   "metadata": {},
   "source": [
    "Well, for the next part we are asked to create comparison statements to compare the two sets of values. Let us have some fun, and create an entire class structure to handle this! Always good philosphy to keep your code clean and organized! As well as to prevent having the recreate the same code over and over again!"
   ]
  },
  {
   "cell_type": "code",
   "execution_count": 16,
   "metadata": {},
   "outputs": [],
   "source": [
    "class TemperatureComparison:\n",
    "    def __init__(self, celsius, fahrenheit, kelvin, celsius_two, fahrenheit_two, kelvin_two):\n",
    "        # Store the inputs\n",
    "        self.celsius = celsius\n",
    "        self.fahrenheit = fahrenheit\n",
    "        self.kelvin = kelvin\n",
    "        self.celsius_two = celsius_two\n",
    "        self.fahrenheit_two = fahrenheit_two\n",
    "        self.kelvin_two = kelvin_two\n",
    "\n",
    "    def compare(self):\n",
    "        print(\"\\n--- Temperature Set Comparison ---\\n\")\n",
    "        # Display Set One to two decimal places\n",
    "        print(f\"Set One:\")\n",
    "        print(f\"  Celsius: {self.celsius:.2f}°C\")\n",
    "        print(f\"  Fahrenheit: {self.fahrenheit:.2f}°F\")\n",
    "        print(f\"  Kelvin: {self.kelvin:.2f}K\")\n",
    "        print(\"-\" * 40)\n",
    "        # Display Set Two with full decimal precision\n",
    "        print(f\"Set Two:\")\n",
    "        print(f\"  Celsius: {self.celsius_two}°C\")\n",
    "        print(f\"  Fahrenheit: {self.fahrenheit_two}°F\")\n",
    "        print(f\"  Kelvin: {self.kelvin_two}K\")\n",
    "        print(\"\\n--- Results ---\")\n",
    "\n",
    "        # Compare Celsius values\n",
    "        if self.celsius > self.celsius_two:\n",
    "            print(f\"Set One Celsius value ({self.celsius:.2f}°C) is greater than Set Two ({self.celsius_two}°C)\")\n",
    "        elif self.celsius < self.celsius_two:\n",
    "            print(f\"Set Two Celsius value ({self.celsius_two}°C) is greater than Set One ({self.celsius:.2f}°C)\")\n",
    "        else:\n",
    "            print(f\"Set One and Set Two Celsius values are equal ({self.celsius:.2f}°C)\")\n",
    "\n",
    "        # Compare Fahrenheit values\n",
    "        if self.fahrenheit > self.fahrenheit_two:\n",
    "            print(f\"Set One Fahrenheit value ({self.fahrenheit:.2f}°F) is greater than Set Two ({self.fahrenheit_two}°F)\")\n",
    "        elif self.fahrenheit < self.fahrenheit_two:\n",
    "            print(f\"Set Two Fahrenheit value ({self.fahrenheit_two}°F) is greater than Set One ({self.fahrenheit:.2f}°F)\")\n",
    "        else:\n",
    "            print(f\"Set One and Set Two Fahrenheit values are equal ({self.fahrenheit:.2f}°F)\")\n",
    "\n",
    "        # Compare Kelvin values\n",
    "        if self.kelvin > self.kelvin_two:\n",
    "            print(f\"Set One Kelvin value ({self.kelvin:.2f}K) is greater than Set Two ({self.kelvin_two}K)\")\n",
    "        elif self.kelvin < self.kelvin_two:\n",
    "            print(f\"Set Two Kelvin value ({self.kelvin_two}K) is greater than Set One ({self.kelvin:.2f}K)\")\n",
    "        else:\n",
    "            print(f\"Set One and Set Two Kelvin values are equal ({self.kelvin:.2f}K)\")\n",
    "    \n",
    "    \n",
    "    def logical_operations(self):\n",
    "        print(\"\\n--- Logical Operator Evaluation ---\")\n",
    "\n",
    "        # AND operation using one Celsius and one Fahrenheit comparison\n",
    "        print(f\"\\ncelsius == celsius_two and fahrenheit < fahrenheit_two\")\n",
    "        result_and = (self.celsius == self.celsius_two) and (self.fahrenheit < self.fahrenheit_two)\n",
    "        if result_and:\n",
    "            print(\"Python speaks the truth!\")\n",
    "        else:\n",
    "            print(\"Python lies.\")\n",
    "\n",
    "        # OR operation using one Celsius and one Kelvin comparison\n",
    "        print(f\"\\ncelsius == celsius_two or kelvin != kelvin_two\")\n",
    "        result_or = (self.celsius == self.celsius_two) or (self.kelvin != self.kelvin_two)\n",
    "        if result_or:\n",
    "            print(\"Python speaks the truth!\")\n",
    "        else:\n",
    "            print(\"Python lies.\")\n",
    "\n",
    "    def display(self):\n",
    "        print(\"\\n--- Temperature Values ---\")\n",
    "        # Format Set One to two decimal places\n",
    "        print(f\"Set One:\")\n",
    "        print(f\"  Celsius: {self.celsius:.2f}°C\")\n",
    "        print(f\"  Fahrenheit: {self.fahrenheit:.2f}°F\")\n",
    "        print(f\"  Kelvin: {self.kelvin:.2f}K\")\n",
    "\n",
    "        # Format Set Two with full precision\n",
    "        print(f\"Set Two:\")\n",
    "        print(f\"  Celsius: {self.celsius_two}°C\")\n",
    "        print(f\"  Fahrenheit: {self.fahrenheit_two}°F\")\n",
    "        print(f\"  Kelvin: {self.kelvin_two}K\")\n",
    "        print(\"\\n\")"
   ]
  },
  {
   "cell_type": "markdown",
   "metadata": {},
   "source": [
    "So let us implement the class structure, and then see how our output looks!"
   ]
  },
  {
   "cell_type": "code",
   "execution_count": 11,
   "metadata": {},
   "outputs": [
    {
     "name": "stdout",
     "output_type": "stream",
     "text": [
      "\n",
      "--- Temperature Values ---\n",
      "Set One:\n",
      "  Celsius: 32.00°C\n",
      "  Fahrenheit: 89.60°F\n",
      "  Kelvin: 305.15K\n",
      "Set Two:\n",
      "  Celsius: 56.0°C\n",
      "  Fahrenheit: 132.8°F\n",
      "  Kelvin: 329.15K\n",
      "\n",
      "\n",
      "\n",
      "--- Temperature Set Comparison ---\n",
      "\n",
      "Set One:\n",
      "  Celsius: 32.00°C\n",
      "  Fahrenheit: 89.60°F\n",
      "  Kelvin: 305.15K\n",
      "----------------------------------------\n",
      "Set Two:\n",
      "  Celsius: 56.0°C\n",
      "  Fahrenheit: 132.8°F\n",
      "  Kelvin: 329.15K\n",
      "\n",
      "--- Results ---\n",
      "Set Two Celsius value (56.0°C) is greater than Set One (32.00°C)\n",
      "Set Two Fahrenheit value (132.8°F) is greater than Set One (89.60°F)\n",
      "Set Two Kelvin value (329.15K) is greater than Set One (305.15K)\n"
     ]
    }
   ],
   "source": [
    "if __name__ == \"__main__\":\n",
    "    # Create an instance of the class\n",
    "    comparison = TemperatureComparison(celsius, fahrenheit, kelvin, celsius_two, fahrenheit_two, kelvin_two)\n",
    "    comparison.display()\n",
    "    comparison.compare()"
   ]
  },
  {
   "cell_type": "markdown",
   "metadata": {},
   "source": [
    "At this point, we were asked to add logical operators. For the flow of this notebook, I have add this section above into our class statements. This said, I will comment out the section I have added for the display of this step. "
   ]
  },
  {
   "cell_type": "code",
   "execution_count": null,
   "metadata": {},
   "outputs": [],
   "source": [
    "\"\"\" \n",
    "\n",
    "    def logical_operations(self):\n",
    "        print(\"\\n--- Logical Operator Evaluation ---\")\n",
    "\n",
    "        # AND operation using one Celsius and one Fahrenheit comparison\n",
    "        print(f\"\\ncelsius == celsius_two and fahrenheit < fahrenheit_two\")\n",
    "        result_and = (self.celsius == self.celsius_two) and (self.fahrenheit < self.fahrenheit_two)\n",
    "        if result_and:\n",
    "            print(\"Python speaks the truth!\")\n",
    "        else:\n",
    "            print(\"Python lies.\")\n",
    "\n",
    "        # OR operation using one Celsius and one Kelvin comparison\n",
    "        print(f\"\\ncelsius == celsius_two or kelvin != kelvin_two\")\n",
    "        result_or = (self.celsius == self.celsius_two) or (self.kelvin != self.kelvin_two)\n",
    "        if result_or:\n",
    "            print(\"Python speaks the truth!\")\n",
    "        else:\n",
    "            print(\"Python lies.\")\n",
    "\"\"\""
   ]
  },
  {
   "cell_type": "markdown",
   "metadata": {},
   "source": [
    "Now as promised much earlier in the lab, I will provide a more structured version of the code that we have created. This will be the final section of the lab. "
   ]
  },
  {
   "cell_type": "code",
   "execution_count": 17,
   "metadata": {},
   "outputs": [],
   "source": [
    "def main():\n",
    "    print(\"Welcome to my Temperature Comparison Program!\")\n",
    "    \n",
    "    # if executing this in tandem with the class without the above note book. Please remove\n",
    "    # the comments on the variables below!\n",
    "    \n",
    "    # celsius = 0.0\n",
    "    # fahrenheit = 0.0\n",
    "    # kelvin = 0.0\n",
    "    # celsius_two = 0.0\n",
    "    # fahrenheit_two = 0.0\n",
    "    # kelvin_two = 0.0\n",
    "    \n",
    "\n",
    "\n",
    "    # Try-catch for Celsius input\n",
    "    while True:\n",
    "        try:\n",
    "            celsius = float(input(\"Enter Set One Celsius: \").strip())\n",
    "            break\n",
    "        except ValueError:\n",
    "            print(\"Invalid input. Please enter a valid number.\")\n",
    "            \n",
    "    print(\"Please provide a another temperature for celcius for the comparison operation!\")\n",
    "    \n",
    "    # Try-catch for Celsius input (Set Two)\n",
    "    while True:\n",
    "        try:\n",
    "            celsius_two = float(input(\"Enter Set Two Celsius: \").strip())\n",
    "            break\n",
    "        except ValueError:\n",
    "            print(\"Invalid input. Please enter a valid number.\")\n",
    "\n",
    "    # Run our definitions from above\n",
    "    fahrenheit = celsius_to_fahrenheit(celsius)\n",
    "    kelvin = celsius_to_kelvin(celsius)\n",
    "    fahrenheit_two = celsius_to_fahrenheit(celsius_two)\n",
    "    kelvin_two = celsius_to_kelvin(celsius_two)\n",
    "\n",
    "    # Create a TemperatureComparison object with the provided inputs\n",
    "    temp_compare = TemperatureComparison(\n",
    "        celsius, fahrenheit, kelvin, \n",
    "        celsius_two, fahrenheit_two, kelvin_two\n",
    "    )\n",
    "\n",
    "    # Display values\n",
    "    temp_compare.display()\n",
    "    # Run the comparison\n",
    "    temp_compare.compare()\n",
    "    # Run logical operations\n",
    "    temp_compare.logical_operations()"
   ]
  },
  {
   "cell_type": "markdown",
   "metadata": {},
   "source": [
    "And where would be with out the classic pythonic execution of main!"
   ]
  },
  {
   "cell_type": "code",
   "execution_count": 18,
   "metadata": {},
   "outputs": [
    {
     "name": "stdout",
     "output_type": "stream",
     "text": [
      "Welcome to my Temperature Comparison Program!\n",
      "Please provide a another temperature for celcius for the comparison operation!\n",
      "\n",
      "--- Temperature Values ---\n",
      "Set One:\n",
      "  Celsius: 25.00°C\n",
      "  Fahrenheit: 77.00°F\n",
      "  Kelvin: 298.15K\n",
      "Set Two:\n",
      "  Celsius: 42.0°C\n",
      "  Fahrenheit: 107.6°F\n",
      "  Kelvin: 315.15K\n",
      "\n",
      "\n",
      "\n",
      "--- Temperature Set Comparison ---\n",
      "\n",
      "Set One:\n",
      "  Celsius: 25.00°C\n",
      "  Fahrenheit: 77.00°F\n",
      "  Kelvin: 298.15K\n",
      "----------------------------------------\n",
      "Set Two:\n",
      "  Celsius: 42.0°C\n",
      "  Fahrenheit: 107.6°F\n",
      "  Kelvin: 315.15K\n",
      "\n",
      "--- Results ---\n",
      "Set Two Celsius value (42.0°C) is greater than Set One (25.00°C)\n",
      "Set Two Fahrenheit value (107.6°F) is greater than Set One (77.00°F)\n",
      "Set Two Kelvin value (315.15K) is greater than Set One (298.15K)\n",
      "\n",
      "--- Logical Operator Evaluation ---\n",
      "\n",
      "celsius == celsius_two and fahrenheit < fahrenheit_two\n",
      "Python lies.\n",
      "\n",
      "celsius == celsius_two or kelvin != kelvin_two\n",
      "Python speaks the truth!\n"
     ]
    }
   ],
   "source": [
    "if __name__ == \"__main__\":\n",
    "    main()"
   ]
  }
 ],
 "metadata": {
  "kernelspec": {
   "display_name": "Python 3",
   "language": "python",
   "name": "python3"
  },
  "language_info": {
   "codemirror_mode": {
    "name": "ipython",
    "version": 3
   },
   "file_extension": ".py",
   "mimetype": "text/x-python",
   "name": "python",
   "nbconvert_exporter": "python",
   "pygments_lexer": "ipython3",
   "version": "3.12.0"
  }
 },
 "nbformat": 4,
 "nbformat_minor": 2
}
